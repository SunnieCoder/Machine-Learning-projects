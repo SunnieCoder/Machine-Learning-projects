{
  "cells": [
    {
      "cell_type": "markdown",
      "metadata": {
        "id": "view-in-github",
        "colab_type": "text"
      },
      "source": [
        "<a href=\"https://colab.research.google.com/github/SunnieCoder/Machine-Learning-projects/blob/main/Deep%20Learning-based%20Audio%20Classification%20Model%20(Speech-to-Text).ipynb\" target=\"_parent\"><img src=\"https://colab.research.google.com/assets/colab-badge.svg\" alt=\"Open In Colab\"/></a>"
      ]
    },
    {
      "cell_type": "code",
      "execution_count": null,
      "metadata": {
        "id": "gvsQ3OcHfTzC"
      },
      "outputs": [],
      "source": [
        "!pip install scikit-learn\n",
        "!pip install torch torchvision torchaudio\n",
        "!pip install librosa\n",
        "!pip install tensorboard\n",
        "!pip install torchmetrics"
      ]
    },
    {
      "cell_type": "code",
      "execution_count": null,
      "metadata": {
        "id": "S9Nzj2Oretp0"
      },
      "outputs": [],
      "source": [
        "# from google.colab import drive\n",
        "# drive.mount('/content/drive')"
      ]
    },
    {
      "cell_type": "code",
      "execution_count": null,
      "metadata": {
        "id": "43A3hc9JevzF"
      },
      "outputs": [],
      "source": [
        "import torch\n",
        "import torchaudio\n",
        "from torch import nn\n",
        "import torch.optim as optim\n",
        "from torch.optim import Adam\n",
        "import torch.nn.functional as F\n",
        "from torch.nn.utils.rnn import pad_sequence\n",
        "from torch.utils.data import DataLoader, Dataset\n",
        "import librosa\n",
        "import numpy as np\n",
        "import pandas as pd\n",
        "from sklearn.model_selection import train_test_split\n",
        "import os\n",
        "from torch.utils.tensorboard import SummaryWriter\n",
        "from sklearn.metrics import precision_recall_fscore_support\n",
        "from torchmetrics import Precision, Recall, F1Score\n",
        "from sklearn.metrics import precision_score, recall_score, f1_score"
      ]
    },
    {
      "cell_type": "markdown",
      "metadata": {
        "id": "zQYy_-KrptFk"
      },
      "source": [
        "Import dataset"
      ]
    },
    {
      "cell_type": "code",
      "execution_count": null,
      "metadata": {
        "id": "_GDJKeELCNRO"
      },
      "outputs": [],
      "source": [
        "# Setting up the paths to the training, validation, and test audio files\n",
        "\n",
        "train_audio_folder = '/WAVE/projects/CSEN-342-Wi24/data/pr3/train'\n",
        "val_audio_folder = '/WAVE/projects/CSEN-342-Wi24/data/pr3/val'\n",
        "test_audio_folder = '/WAVE/projects/CSEN-342-Wi24/data/pr3/test'"
      ]
    },
    {
      "cell_type": "code",
      "execution_count": null,
      "metadata": {
        "id": "Kf8lG5CVe6i9"
      },
      "outputs": [],
      "source": [
        "# # Setting up the paths to the training, validation, and test audio files\n",
        "\n",
        "# train_audio_folder = '/content/drive/My Drive/SCU - Deep learning - individual/Program 3/dataset/train'\n",
        "# val_audio_folder = '/content/drive/My Drive/SCU - Deep learning - individual/Program 3/dataset/val'\n",
        "# test_audio_folder = '/content/drive/My Drive/SCU - Deep learning - individual/Program 3/dataset/test'"
      ]
    },
    {
      "cell_type": "code",
      "execution_count": null,
      "metadata": {
        "id": "GF0jbtCdFDw3"
      },
      "outputs": [],
      "source": [
        "# This function reads the labels from a 'labels.txt' file, where each line corresponds to a label.\n",
        "def load_labels(label_path):\n",
        "    with open(label_path, 'r') as file:\n",
        "        labels = [int(line.strip()) for line in file]\n",
        "    return labels"
      ]
    },
    {
      "cell_type": "code",
      "execution_count": null,
      "metadata": {
        "id": "lZ-lAbWhMBJz"
      },
      "outputs": [],
      "source": [
        "def get_audio_file_paths(audio_folder):\n",
        "    file_paths = [f for f in os.listdir(audio_folder) if f.endswith('.wav')]\n",
        "    file_paths.sort()  # Ensure the order is consistent\n",
        "    return file_paths"
      ]
    },
    {
      "cell_type": "markdown",
      "metadata": {
        "id": "D2FBYGFEfflL"
      },
      "source": [
        "Extract features"
      ]
    },
    {
      "cell_type": "code",
      "execution_count": null,
      "metadata": {
        "id": "zmEhH9N1En9k"
      },
      "outputs": [],
      "source": [
        "def spec_to_image(spec, eps=1e-6):\n",
        "  mean = spec.mean()\n",
        "  std = spec.std()\n",
        "  spec_norm = (spec - mean) / (std + eps)\n",
        "  spec_min, spec_max = spec_norm.min(), spec_norm.max()\n",
        "  spec_scaled = 255 * (spec_norm - spec_min) / (spec_max - spec_min)\n",
        "  spec_scaled = spec_scaled.astype(np.uint8)\n",
        "  return spec_scaled"
      ]
    },
    {
      "cell_type": "code",
      "execution_count": null,
      "metadata": {
        "id": "HkGUMRsVEqAO"
      },
      "outputs": [],
      "source": [
        "def get_melspectrogram_db(file_path, sr=28050, n_fft=2048, hop_length=512, n_mels=128, fmin=20, fmax=8300, top_db=80):\n",
        "  wav, sr = librosa.load(file_path, sr=sr)\n",
        "  if len(wav.shape) == 2:\n",
        "      wav = wav.mean(axis=1)\n",
        "  if wav.shape[0]<5*sr:\n",
        "      wav = np.pad(wav, int(np.ceil((5*sr-wav.shape[0])/2)), mode='reflect')\n",
        "  else:\n",
        "      wav = wav[:5*sr]\n",
        "  spec = librosa.feature.melspectrogram(y=wav, sr=sr, n_fft=n_fft, hop_length=hop_length, n_mels=n_mels, fmin=fmin, fmax=fmax)\n",
        "  spec_db = librosa.power_to_db(spec, top_db=top_db)\n",
        "  return spec_db"
      ]
    },
    {
      "cell_type": "code",
      "execution_count": null,
      "metadata": {
        "id": "QtDPWIEOCNRS"
      },
      "outputs": [],
      "source": [
        "sample = '/WAVE/projects/CSEN-342-Wi24/data/pr3/train/00348.wav'"
      ]
    },
    {
      "cell_type": "code",
      "execution_count": null,
      "metadata": {
        "id": "aoau2gxnCNRS",
        "outputId": "1fcec378-35f2-49fc-e718-f85b93f8fcec"
      },
      "outputs": [
        {
          "data": {
            "text/plain": [
              "<matplotlib.collections.QuadMesh at 0x7f2f9e139670>"
            ]
          },
          "execution_count": 11,
          "metadata": {},
          "output_type": "execute_result"
        },
        {
          "data": {
            "image/png": "[encoded data removed]",
            "text/plain": [
              "<Figure size 640x480 with 1 Axes>"
            ]
          },
          "metadata": {},
          "output_type": "display_data"
        }
      ],
      "source": [
        "librosa.display.specshow(spec_to_image(get_melspectrogram_db(sample)))"
      ]
    },
    {
      "cell_type": "code",
      "execution_count": null,
      "metadata": {
        "id": "nQW1nxLfFGw9"
      },
      "outputs": [],
      "source": [
        "class ProcessData(Dataset):\n",
        "    def __init__(self, base, file_paths, labels=None):\n",
        "        self.base = base\n",
        "        self.file_paths = file_paths\n",
        "        self.labels = labels\n",
        "\n",
        "    def __len__(self):\n",
        "        return len(self.file_paths)\n",
        "\n",
        "    def __getitem__(self, idx):\n",
        "        file_path = os.path.join(self.base, self.file_paths[idx])\n",
        "        spec_img = spec_to_image(get_melspectrogram_db(file_path))\n",
        "        if self.labels is not None:\n",
        "            label = self.labels[idx]\n",
        "            return spec_img[np.newaxis, ...], label\n",
        "        else:\n",
        "            # For test set, where there are no labels\n",
        "            return spec_img[np.newaxis, ...]"
      ]
    },
    {
      "cell_type": "markdown",
      "metadata": {
        "id": "U6PZsqkItlxy"
      },
      "source": [
        "Create Datasets and DataLoaders"
      ]
    },
    {
      "cell_type": "code",
      "execution_count": null,
      "metadata": {
        "id": "tTP48zU1MYCs"
      },
      "outputs": [],
      "source": [
        "train_label_path = os.path.join(train_audio_folder, 'labels.txt')\n",
        "val_label_path = os.path.join(val_audio_folder, 'labels.txt')\n",
        "\n",
        "# Load labels\n",
        "train_labels = load_labels(train_label_path)\n",
        "val_labels = load_labels(val_label_path)"
      ]
    },
    {
      "cell_type": "code",
      "execution_count": null,
      "metadata": {
        "id": "KSFfGjEdFJBl"
      },
      "outputs": [],
      "source": [
        "# Get file paths\n",
        "train_files = get_audio_file_paths(train_audio_folder)\n",
        "val_files = get_audio_file_paths(val_audio_folder)\n",
        "test_files = get_audio_file_paths(test_audio_folder)"
      ]
    },
    {
      "cell_type": "code",
      "execution_count": null,
      "metadata": {
        "id": "Y_r6WHtiGOpR"
      },
      "outputs": [],
      "source": [
        "# Create Dataset objects\n",
        "train_data = ProcessData(train_audio_folder, train_files, train_labels)\n",
        "valid_data = ProcessData(val_audio_folder, val_files, val_labels)\n",
        "test_data = ProcessData(test_audio_folder, test_files)  # No labels for test data"
      ]
    },
    {
      "cell_type": "code",
      "execution_count": null,
      "metadata": {
        "colab": {
          "base_uri": "https://localhost:8080/"
        },
        "id": "8LpJQuwZZKZv",
        "outputId": "33e86bbf-064b-4859-e461-019dc73ac707"
      },
      "outputs": [
        {
          "data": {
            "text/plain": [
              "350"
            ]
          },
          "execution_count": 16,
          "metadata": {},
          "output_type": "execute_result"
        }
      ],
      "source": [
        "len(train_data)"
      ]
    },
    {
      "cell_type": "code",
      "execution_count": null,
      "metadata": {
        "id": "GGpK4NYaGXij"
      },
      "outputs": [],
      "source": [
        "# Create DataLoaders\n",
        "train_loader = DataLoader(train_data, batch_size=32, shuffle=True)\n",
        "valid_loader = DataLoader(valid_data, batch_size=32, shuffle=True)\n",
        "test_loader = DataLoader(test_data, batch_size=32, shuffle=False)  # No shuffling needed for test data"
      ]
    },
    {
      "cell_type": "code",
      "execution_count": null,
      "metadata": {
        "id": "YZILMS-nVe6L"
      },
      "outputs": [],
      "source": [
        "if torch.cuda.is_available():\n",
        "  device=torch.device('cuda:0')\n",
        "else:\n",
        "  device=torch.device('cpu')"
      ]
    },
    {
      "cell_type": "markdown",
      "metadata": {
        "id": "_jfzj2dBWREI"
      },
      "source": [
        "Build the NeuralNetwork"
      ]
    },
    {
      "cell_type": "code",
      "execution_count": null,
      "metadata": {
        "id": "BAus6ddOCNRU"
      },
      "outputs": [],
      "source": [
        "class CRNNModel(nn.Module):\n",
        "    def __init__(self, num_cats=26):\n",
        "        super(CRNNModel, self).__init__()\n",
        "        # Convolutional layers\n",
        "        self.conv1 = nn.Conv2d(1, 32, kernel_size=3, stride=1, padding=1)\n",
        "        self.bn1 = nn.BatchNorm2d(32)\n",
        "        self.conv2 = nn.Conv2d(32, 32, kernel_size=3, stride=1, padding=1)\n",
        "        self.bn2 = nn.BatchNorm2d(32)\n",
        "        self.conv3 = nn.Conv2d(32, 64, kernel_size=3, stride=1, padding=1)\n",
        "        self.bn3 = nn.BatchNorm2d(64)\n",
        "        self.conv4 = nn.Conv2d(64, 64, kernel_size=3, stride=1, padding=1)\n",
        "        self.bn4 = nn.BatchNorm2d(64)\n",
        "        self.conv5 = nn.Conv2d(64, 128, kernel_size=3, stride=1, padding=1)\n",
        "        self.bn5 = nn.BatchNorm2d(128)\n",
        "        self.conv6 = nn.Conv2d(128, 128, kernel_size=3, stride=1, padding=1)\n",
        "        self.bn6 = nn.BatchNorm2d(128)\n",
        "        self.conv7 = nn.Conv2d(128, 256, kernel_size=3, stride=1, padding=1)\n",
        "        self.bn7 = nn.BatchNorm2d(256)\n",
        "        self.conv8 = nn.Conv2d(256, 256, kernel_size=3, stride=1, padding=1)\n",
        "        self.bn8 = nn.BatchNorm2d(256)\n",
        "\n",
        "        # Linear layer\n",
        "        self.linear = nn.Linear(256, 1024)\n",
        "\n",
        "        # RNN layers\n",
        "        self.hidden_size = 128\n",
        "        self.num_layers = 2\n",
        "        self.dropout_prob = 0.5\n",
        "        self.rnn = nn.LSTM(1024, self.hidden_size, self.num_layers, batch_first=True, dropout=self.dropout_prob)\n",
        "\n",
        "        # Fully connected layers\n",
        "        self.dense1 = nn.Linear(self.hidden_size, 500)\n",
        "        self.dropout = nn.Dropout(0.5)\n",
        "        self.dense2 = nn.Linear(500, num_cats)\n",
        "\n",
        "    def forward(self, x):\n",
        "        # Pass data through convolutional layers with ReLU activations and BatchNorm\n",
        "        x = F.relu(self.bn1(self.conv1(x)))\n",
        "        x = F.max_pool2d(x, kernel_size=2)\n",
        "        x = F.relu(self.bn2(self.conv2(x)))\n",
        "        x = F.max_pool2d(x, kernel_size=2)\n",
        "        x = F.relu(self.bn3(self.conv3(x)))\n",
        "        x = F.relu(self.bn4(self.conv4(x)))\n",
        "        x = F.max_pool2d(x, kernel_size=2)\n",
        "        x = F.relu(self.bn5(self.conv5(x)))\n",
        "        x = F.relu(self.bn6(self.conv6(x)))\n",
        "        x = F.max_pool2d(x, kernel_size=2)\n",
        "        x = F.relu(self.bn7(self.conv7(x)))\n",
        "        x = F.relu(self.bn8(self.conv8(x)))\n",
        "        x = F.max_pool2d(x, kernel_size=2)\n",
        "\n",
        "        # Flatten the output for the LSTM layers\n",
        "        batch_size, channels, height, width = x.size()\n",
        "        num_features = channels * height  # Features for each time step in the sequence\n",
        "        x = x.view(batch_size, width, num_features)  # Reshape to [batch, seq_len, features]\n",
        "\n",
        "        # LSTM layers\n",
        "        h0 = torch.zeros(self.num_layers, batch_size, self.hidden_size).to(x.device)\n",
        "        c0 = torch.zeros(self.num_layers, batch_size, self.hidden_size).to(x.device)\n",
        "\n",
        "        # Pass data through RNN layers\n",
        "        out, _ = self.rnn(x, (h0, c0))\n",
        "\n",
        "        # Take the output for the last time step\n",
        "        out = out[:, -1, :]\n",
        "\n",
        "        # Pass the output of the RNN to the final dense layers\n",
        "        out = self.dropout(F.relu(self.dense1(out)))\n",
        "        out = self.dense2(out)\n",
        "\n",
        "        return out"
      ]
    },
    {
      "cell_type": "markdown",
      "metadata": {
        "id": "ks_yXk70Y2Je"
      },
      "source": [
        "Instantiate the Model and Define Optimizer"
      ]
    },
    {
      "cell_type": "code",
      "execution_count": null,
      "metadata": {
        "id": "ZeKslTSrCNRV"
      },
      "outputs": [],
      "source": [
        "def calculate_metrics(y_true, y_pred):\n",
        "    precision = precision_score(y_true, y_pred, average='weighted', zero_division=1)\n",
        "    recall = recall_score(y_true, y_pred, average='weighted', zero_division=1)\n",
        "    f1 = f1_score(y_true, y_pred, average='weighted', zero_division=1)\n",
        "    return precision, recall, f1"
      ]
    },
    {
      "cell_type": "code",
      "execution_count": null,
      "metadata": {
        "id": "A6hdN1PJ-igQ"
      },
      "outputs": [],
      "source": [
        "def setlr(optimizer, lr):\n",
        "  for param_group in optimizer.param_groups:\n",
        "    param_group['lr'] = lr\n",
        "  return optimizer\n",
        "\n",
        "def lr_decay(optimizer, epoch):\n",
        "    if epoch % 20 == 0:\n",
        "        new_lr = learning_rate / (10 ** (epoch // 20))\n",
        "        optimizer = setlr(optimizer, new_lr)\n",
        "        print(f'Changed learning rate to {new_lr}')\n",
        "    return optimizer"
      ]
    },
    {
      "cell_type": "code",
      "execution_count": null,
      "metadata": {
        "id": "zkFfsFlACNRV"
      },
      "outputs": [],
      "source": [
        "model = CRNNModel(num_cats=26).to(device)"
      ]
    },
    {
      "cell_type": "code",
      "execution_count": null,
      "metadata": {
        "id": "Y1ywvT_mCNRV"
      },
      "outputs": [],
      "source": [
        "loss_fn = nn.CrossEntropyLoss()\n",
        "learning_rate = 1e-3\n",
        "optimizer = optim.Adam(model.parameters(), lr=learning_rate, weight_decay=1e-5)\n",
        "epochs = 60"
      ]
    },
    {
      "cell_type": "markdown",
      "metadata": {
        "id": "pz8Vlw9JLNxG"
      },
      "source": [
        "Train the model"
      ]
    },
    {
      "cell_type": "code",
      "execution_count": null,
      "metadata": {
        "id": "6mHdn6rBCNRV"
      },
      "outputs": [],
      "source": [
        "# Set up TensorBoard\n",
        "writer = SummaryWriter('/WAVE/users/unix/wmo/Desktop/p3runs')"
      ]
    },
    {
      "cell_type": "code",
      "execution_count": null,
      "metadata": {
        "id": "lk2TRqQUCNRW"
      },
      "outputs": [],
      "source": [
        "def train(model, loss_fn, train_loader, valid_loader, epochs, optimizer, change_lr=None):\n",
        "    for epoch in range(1, epochs + 1):\n",
        "        model.train()\n",
        "        batch_losses = []\n",
        "        y_true_train = []\n",
        "        y_pred_train = []\n",
        "\n",
        "        if change_lr:\n",
        "            optimizer = change_lr(optimizer, epoch)\n",
        "\n",
        "        for i, data in enumerate(train_loader):\n",
        "            x, y = data\n",
        "            optimizer.zero_grad()\n",
        "            x = x.to(device, dtype=torch.float32)\n",
        "            y = y.to(device, dtype=torch.long)\n",
        "            # x = x.squeeze(1)\n",
        "            # # print(x.shape)\n",
        "\n",
        "            y_hat = model(x)\n",
        "            loss = loss_fn(y_hat, y)\n",
        "            loss.backward()\n",
        "            optimizer.step()\n",
        "            batch_losses.append(loss.item())\n",
        "            _, predicted = torch.max(y_hat, 1)\n",
        "            y_true_train += y.cpu().tolist()\n",
        "            y_pred_train += predicted.cpu().tolist()\n",
        "\n",
        "        # Calculate training metrics\n",
        "        precision_train, recall_train, f1_train = calculate_metrics(y_true_train, y_pred_train)\n",
        "        train_loss = np.mean(batch_losses)\n",
        "\n",
        "        # Log training metrics\n",
        "        writer.add_scalar('Training Loss', train_loss, epoch)\n",
        "        writer.add_scalar('Training Precision', precision_train, epoch)\n",
        "        writer.add_scalar('Training Recall', recall_train, epoch)\n",
        "        writer.add_scalar('Training F1 Score', f1_train, epoch)\n",
        "\n",
        "        model.eval()\n",
        "        valid_losses = []\n",
        "        y_true_valid = []\n",
        "        y_pred_valid = []\n",
        "\n",
        "        with torch.no_grad():\n",
        "            for i, data in enumerate(valid_loader):\n",
        "                x, y = data\n",
        "                x = x.to(device, dtype=torch.float32)\n",
        "                y = y.to(device, dtype=torch.long)\n",
        "                # x = x.squeeze(1)\n",
        "\n",
        "                y_hat = model(x)\n",
        "                loss = loss_fn(y_hat, y)\n",
        "                valid_losses.append(loss.item())\n",
        "                _, predicted = torch.max(y_hat, 1)\n",
        "                y_true_valid += y.cpu().tolist()\n",
        "                y_pred_valid += predicted.cpu().tolist()\n",
        "\n",
        "        # Calculate validation metrics\n",
        "        precision_valid, recall_valid, f1_valid = calculate_metrics(y_true_valid, y_pred_valid)\n",
        "        valid_loss = np.mean(valid_losses)\n",
        "\n",
        "        # Log validation metrics\n",
        "        writer.add_scalar('Validation Loss', valid_loss, epoch)\n",
        "        writer.add_scalar('Validation Precision', precision_valid, epoch)\n",
        "        writer.add_scalar('Validation Recall', recall_valid, epoch)\n",
        "        writer.add_scalar('Validation F1 Score', f1_valid, epoch)\n",
        "\n",
        "        # Print epoch summary\n",
        "        print(f'Epoch - {epoch} Train Loss: {train_loss:.4f}, Valid Loss: {valid_loss:.4f}')\n",
        "        print(f'Training Precision: {precision_train:.4f}, Recall: {recall_train:.4f}, F1 Score: {f1_train:.4f}')\n",
        "        print(f'Validation Precision: {precision_valid:.4f}, Recall: {recall_valid:.4f}, F1 Score: {f1_valid:.4f}')\n"
      ]
    },
    {
      "cell_type": "code",
      "execution_count": null,
      "metadata": {
        "id": "ufOYRUMoCNRW"
      },
      "outputs": [],
      "source": [
        "# Call the train function\n",
        "train(model, loss_fn, train_loader, valid_loader, epochs, optimizer, lr_decay)\n",
        "\n",
        "# Close the SummaryWriter\n",
        "writer.close()"
      ]
    },
    {
      "cell_type": "markdown",
      "metadata": {
        "id": "PnyeLvxWLZsP"
      },
      "source": [
        "Run the monitor"
      ]
    },
    {
      "cell_type": "code",
      "execution_count": null,
      "metadata": {
        "id": "GrZkzibTkhGm"
      },
      "outputs": [],
      "source": [
        "# %load_ext tensorboard\n",
        "# %tensorboard --logdir '/content/drive/My Drive/SCU - Deep learning - individual/Program 3/runs'"
      ]
    },
    {
      "cell_type": "markdown",
      "metadata": {
        "id": "UO_FiTA91lVN"
      },
      "source": [
        "Save the model"
      ]
    },
    {
      "cell_type": "code",
      "execution_count": null,
      "metadata": {
        "id": "01SBey8mCNRX"
      },
      "outputs": [],
      "source": [
        "model_save_path = '/WAVE/users/unix/wmo/Desktop/p3runs/model1.pth'"
      ]
    },
    {
      "cell_type": "code",
      "execution_count": null,
      "metadata": {
        "id": "5GJQ-RJHCNRX"
      },
      "outputs": [],
      "source": [
        "torch.save(model, model_save_path)"
      ]
    },
    {
      "cell_type": "markdown",
      "metadata": {
        "id": "yoHotxrx2Bik"
      },
      "source": [
        "Load the model"
      ]
    },
    {
      "cell_type": "code",
      "execution_count": null,
      "metadata": {
        "id": "gMIvMNph0vVg"
      },
      "outputs": [],
      "source": [
        "# # Load path\n",
        "# model_load_path = '/content/drive/My Drive/SCU - Deep learning - individual/Program 3/model.pth'"
      ]
    },
    {
      "cell_type": "code",
      "execution_count": null,
      "metadata": {
        "id": "wQvgJIoyCNRd"
      },
      "outputs": [],
      "source": [
        "model_load_path = '/WAVE/users/unix/wmo/Desktop/p3runs/model1.pth'"
      ]
    },
    {
      "cell_type": "code",
      "execution_count": null,
      "metadata": {
        "id": "6Es5ZuHhCNRe"
      },
      "outputs": [],
      "source": [
        "load_model = torch.load(model_load_path)"
      ]
    },
    {
      "cell_type": "markdown",
      "metadata": {
        "id": "fe-6lBC6LfDI"
      },
      "source": [
        "Prediction"
      ]
    },
    {
      "cell_type": "code",
      "execution_count": null,
      "metadata": {
        "id": "obVVl5zwzGXd"
      },
      "outputs": [],
      "source": [
        "def predict(load_model, test_loader):\n",
        "    load_model.eval()  # Set model to evaluate mode\n",
        "    predictions = []\n",
        "    for inputs in test_loader:\n",
        "        with torch.no_grad():\n",
        "            inputs = inputs.to(device, dtype=torch.float32)\n",
        "            # inputs = inputs.squeeze(1)\n",
        "            outputs = load_model(inputs)\n",
        "            _, preds = torch.max(outputs, 1)\n",
        "            predictions.extend(preds.cpu().tolist())\n",
        "    return predictions"
      ]
    },
    {
      "cell_type": "code",
      "execution_count": null,
      "metadata": {
        "id": "BpsSsh0nCNRe"
      },
      "outputs": [],
      "source": [
        "predictions = predict(load_model, test_loader)"
      ]
    },
    {
      "cell_type": "markdown",
      "metadata": {
        "id": "H3JLf1ZSxZLW"
      },
      "source": [
        "Export the predictions file"
      ]
    },
    {
      "cell_type": "code",
      "execution_count": null,
      "metadata": {
        "id": "vg1EzDXDxZfN"
      },
      "outputs": [],
      "source": [
        "# Define the file path\n",
        "# file_path = '/content/drive/My Drive/SCU - Deep learning - individual/Program 3/predictions.txt'\n",
        "\n",
        "output_file_path = '/WAVE/users/unix/wmo/Desktop/p3runs/predictions.txt'\n",
        "\n",
        "# Write the predictions to the output file\n",
        "with open(output_file_path, 'w') as f:\n",
        "    for item in predictions:\n",
        "        f.write(\"%s\\n\" % item)\n",
        "\n",
        "# Return the file path for the user to download\n",
        "output_file_path"
      ]
    }
  ],
  "metadata": {
    "colab": {
      "provenance": [],
      "include_colab_link": true
    },
    "kernelspec": {
      "display_name": "Python 3 (ipykernel)",
      "language": "python",
      "name": "python3"
    },
    "language_info": {
      "codemirror_mode": {
        "name": "ipython",
        "version": 3
      },
      "file_extension": ".py",
      "mimetype": "text/x-python",
      "name": "python",
      "nbconvert_exporter": "python",
      "pygments_lexer": "ipython3",
      "version": "3.9.18"
    }
  },
  "nbformat": 4,
  "nbformat_minor": 0
}